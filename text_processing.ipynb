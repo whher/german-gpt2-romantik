{
 "cells": [
  {
   "cell_type": "code",
   "execution_count": 1,
   "id": "12fc87c8-5050-4c5b-99c6-165f11bab750",
   "metadata": {},
   "outputs": [],
   "source": [
    "import re\n",
    "import os\n",
    "from os import listdir\n",
    "from os.path import isfile, join, isdir\n",
    "import pandas as pd\n",
    "import numpy as np\n",
    "import statistics\n",
    "import random\n",
    "import glob\n",
    "import spacy\n",
    "from spacy.lang.de import German\n",
    "from spacy.language import Language"
   ]
  },
  {
   "cell_type": "code",
   "execution_count": null,
   "id": "17f0007b-64f6-4946-bb41-f6d595b0e83c",
   "metadata": {},
   "outputs": [],
   "source": [
    "try:\n",
    "    from tei_reader import TeiReader\n",
    "except:\n",
    "    import sys\n",
    "    !{sys.executable} -m pip install tei-reader\n",
    "    from tei_reader import TeiReader\n",
    "    \n",
    "reader = TeiReader()"
   ]
  },
  {
   "cell_type": "markdown",
   "id": "bc91eb0d-2428-44c0-bce4-92707f8577c7",
   "metadata": {},
   "source": [
    "**Prepare file for file conversion**"
   ]
  },
  {
   "cell_type": "code",
   "execution_count": null,
   "id": "73dfd89d-a835-45cc-b4a5-1770e600fe29",
   "metadata": {},
   "outputs": [],
   "source": [
    "#  list files in all subfolders\n",
    "\n",
    "def get_list_of_files(dir_name):\n",
    "    \n",
    "    list_of_file = os.listdir(dir_name)\n",
    "    all_files = list()\n",
    "    \n",
    "    for entry in list_of_file:\n",
    "        full_path = os.path.join(dir_name, entry)\n",
    "        if os.path.isdir(full_path):\n",
    "            all_files = all_files + get_list_of_files(full_path)\n",
    "        else:\n",
    "            all_files.append(full_path)\n",
    "                \n",
    "    return all_files\n",
    "\n",
    "# reference: https://thispointer.com/python-how-to-get-list-of-files-in-directory-and-sub-directories/"
   ]
  },
  {
   "cell_type": "code",
   "execution_count": null,
   "id": "8831d97c-a1b0-499b-a327-67ced7cdf823",
   "metadata": {},
   "outputs": [],
   "source": [
    "authors = [\"goethe\", \"günderrode\", \"hölderlin\", \"eichendorff\", \"arnim\"]"
   ]
  },
  {
   "cell_type": "code",
   "execution_count": null,
   "id": "a8c5766d-c36c-405f-be12-dbbaed2c2b4e",
   "metadata": {},
   "outputs": [],
   "source": [
    "# extract xml files for tei conversion\n",
    "# here I manually enter the author names\n",
    "\n",
    "all_files = get_list_of_files(\"corpus/goethe\")\n",
    "all_xml_filepaths = [f for f in all_files if f[-1] == \"l\"]\n",
    "\n",
    "corpus = []\n",
    "for file_path in all_xml_filepaths:\n",
    "    read_corpus = reader.read_file(file_path)\n",
    "    file_name = file_path.rsplit(\"/\")[-1]\n",
    "    corpus.append({'name': file_name, 'corpus': read_corpus})"
   ]
  },
  {
   "cell_type": "markdown",
   "id": "efffad51-7ccd-4c89-84da-b3432bd44eac",
   "metadata": {},
   "source": [
    "**TEI to TXT Conversion**"
   ]
  },
  {
   "cell_type": "code",
   "execution_count": null,
   "id": "2ec53151-2520-4673-ac74-ba09aee233fe",
   "metadata": {},
   "outputs": [],
   "source": [
    "# convert tei to text\n",
    "\n",
    "txt_folder = \"txt\"\n",
    "author = \"goethe\"\n",
    "\n",
    "def convert_tei(folder):\n",
    "\n",
    "    subfolders = [txt_folder]\n",
    "    if os.path.exists(folder):\n",
    "        for subfolder in subfolders:\n",
    "            if not os.path.exists(join(folder, subfolder)):\n",
    "                os.mkdir(join(folder,subfolder))\n",
    "                    \n",
    "    for poem in corpus:\n",
    "        name_clean = poem[\"name\"].partition(\".\")[0]\n",
    "        name = author + \"_\" + name_clean + \".txt\"\n",
    "        path = join(folder, txt_folder, name)\n",
    "        with open(path, 'w') as f:\n",
    "            f.writelines(poem['corpus'].text)"
   ]
  },
  {
   "cell_type": "code",
   "execution_count": null,
   "id": "dc792092-309a-482c-b317-f71f59a3b49b",
   "metadata": {},
   "outputs": [],
   "source": [
    "convert_tei(\"corpus/goethe\")"
   ]
  },
  {
   "cell_type": "markdown",
   "id": "fce63723-0dc8-4da4-939f-65c18f396be5",
   "metadata": {},
   "source": [
    "**Insert Whitespace**"
   ]
  },
  {
   "cell_type": "code",
   "execution_count": null,
   "id": "32e47f4b-3df8-4e77-8a89-efbdd83bc86e",
   "metadata": {},
   "outputs": [],
   "source": [
    "# many of the text does not have proper whitespace between words\n",
    "# here we run through this regex to identify and insert whitespace\n",
    "\n",
    "def insert_whitespace(author):\n",
    "    \n",
    "    files = glob.glob(\"corpus/\" + author + \"/txt/*.txt\")\n",
    "    \n",
    "    for file in files:\n",
    "        with open(file) as f:\n",
    "            text = f.read().replace(\"\\n\", \" \")\n",
    "            added_ws_text = re.sub(r'([a-z,.?!;:])([A-Z])', r'\\1 \\2', text)\n",
    "            with open(file, \"w\") as f2:\n",
    "                f2.write(added_ws_text)"
   ]
  },
  {
   "cell_type": "code",
   "execution_count": null,
   "id": "6457f4e9-d8e7-4df9-bcd7-f05501a31802",
   "metadata": {},
   "outputs": [],
   "source": [
    "for author in authors:\n",
    "    insert_whitespace(author)"
   ]
  },
  {
   "cell_type": "markdown",
   "id": "7fea05a9-ed32-495f-a767-2b0a15bdc20a",
   "metadata": {},
   "source": [
    "**Sentiment Analysis: import sentiment scores from SentiWS and clean dataset to one dataframe**"
   ]
  },
  {
   "cell_type": "code",
   "execution_count": 2,
   "id": "7df4ce14-25e8-40ea-bb48-906b7a4e0f94",
   "metadata": {},
   "outputs": [],
   "source": [
    "nlp = spacy.load(\"de_core_news_sm\")"
   ]
  },
  {
   "cell_type": "code",
   "execution_count": 3,
   "id": "88c9ec44-8ebc-4abd-a78d-f693b606e6ac",
   "metadata": {},
   "outputs": [],
   "source": [
    "sentiment_ne = pd.read_csv(\"/home/jayla/SentiWS/SentiWS_v2.0_Negative.txt\", delimiter = \"\\t\", header = None)\n",
    "sentiment_po = pd.read_csv(\"/home/jayla/SentiWS/SentiWS_v2.0_Positive.txt\", delimiter = \"\\t\", header = None)\n",
    "\n",
    "sentiment_ne = sentiment_ne.rename(columns = {0: \"word\", 1: \"score\"})\n",
    "sentiment_ne = sentiment_ne[[\"word\", \"score\"]]\n",
    "\n",
    "sentiment_po = sentiment_po.rename(columns = {0: \"word\", 1: \"score\"})\n",
    "sentiment_po = sentiment_po[[\"word\", \"score\"]]"
   ]
  },
  {
   "cell_type": "code",
   "execution_count": 4,
   "id": "98a2cc15-dd90-48ef-bd76-f00017ce6d86",
   "metadata": {},
   "outputs": [],
   "source": [
    "def remove_tag(word):\n",
    "    clean_word = word.split(\"|\")[0]\n",
    "    return clean_word\n",
    "    \n",
    "sentiment_ne[\"word\"] = sentiment_ne[\"word\"].apply(remove_tag)\n",
    "sentiment_po[\"word\"] = sentiment_po[\"word\"].apply(remove_tag)"
   ]
  },
  {
   "cell_type": "code",
   "execution_count": 5,
   "id": "d149b09f-5696-40b8-aa00-a0579ed9d093",
   "metadata": {},
   "outputs": [],
   "source": [
    "sentiment_df = pd.concat([sentiment_ne, sentiment_po], ignore_index = True)"
   ]
  },
  {
   "cell_type": "code",
   "execution_count": 6,
   "id": "fa76e10e-c664-4145-a245-838926e870c2",
   "metadata": {},
   "outputs": [
    {
     "data": {
      "text/html": [
       "<div>\n",
       "<style scoped>\n",
       "    .dataframe tbody tr th:only-of-type {\n",
       "        vertical-align: middle;\n",
       "    }\n",
       "\n",
       "    .dataframe tbody tr th {\n",
       "        vertical-align: top;\n",
       "    }\n",
       "\n",
       "    .dataframe thead th {\n",
       "        text-align: right;\n",
       "    }\n",
       "</style>\n",
       "<table border=\"1\" class=\"dataframe\">\n",
       "  <thead>\n",
       "    <tr style=\"text-align: right;\">\n",
       "      <th></th>\n",
       "      <th>word</th>\n",
       "      <th>score</th>\n",
       "    </tr>\n",
       "  </thead>\n",
       "  <tbody>\n",
       "    <tr>\n",
       "      <th>0</th>\n",
       "      <td>Abbau</td>\n",
       "      <td>-0.0580</td>\n",
       "    </tr>\n",
       "    <tr>\n",
       "      <th>1</th>\n",
       "      <td>Abbruch</td>\n",
       "      <td>-0.0048</td>\n",
       "    </tr>\n",
       "    <tr>\n",
       "      <th>2</th>\n",
       "      <td>Abdankung</td>\n",
       "      <td>-0.0048</td>\n",
       "    </tr>\n",
       "    <tr>\n",
       "      <th>3</th>\n",
       "      <td>Abdämpfung</td>\n",
       "      <td>-0.0048</td>\n",
       "    </tr>\n",
       "    <tr>\n",
       "      <th>4</th>\n",
       "      <td>Abfall</td>\n",
       "      <td>-0.0048</td>\n",
       "    </tr>\n",
       "    <tr>\n",
       "      <th>...</th>\n",
       "      <td>...</td>\n",
       "      <td>...</td>\n",
       "    </tr>\n",
       "    <tr>\n",
       "      <th>3466</th>\n",
       "      <td>überwältigt</td>\n",
       "      <td>0.0578</td>\n",
       "    </tr>\n",
       "    <tr>\n",
       "      <th>3467</th>\n",
       "      <td>überzeugen</td>\n",
       "      <td>0.3396</td>\n",
       "    </tr>\n",
       "    <tr>\n",
       "      <th>3468</th>\n",
       "      <td>überzeugend</td>\n",
       "      <td>0.4489</td>\n",
       "    </tr>\n",
       "    <tr>\n",
       "      <th>3469</th>\n",
       "      <td>überzeugt</td>\n",
       "      <td>0.2381</td>\n",
       "    </tr>\n",
       "    <tr>\n",
       "      <th>3470</th>\n",
       "      <td>üppig</td>\n",
       "      <td>0.2010</td>\n",
       "    </tr>\n",
       "  </tbody>\n",
       "</table>\n",
       "<p>3471 rows × 2 columns</p>\n",
       "</div>"
      ],
      "text/plain": [
       "             word   score\n",
       "0           Abbau -0.0580\n",
       "1         Abbruch -0.0048\n",
       "2       Abdankung -0.0048\n",
       "3      Abdämpfung -0.0048\n",
       "4          Abfall -0.0048\n",
       "...           ...     ...\n",
       "3466  überwältigt  0.0578\n",
       "3467   überzeugen  0.3396\n",
       "3468  überzeugend  0.4489\n",
       "3469    überzeugt  0.2381\n",
       "3470        üppig  0.2010\n",
       "\n",
       "[3471 rows x 2 columns]"
      ]
     },
     "execution_count": 6,
     "metadata": {},
     "output_type": "execute_result"
    }
   ],
   "source": [
    "sentiment_df"
   ]
  },
  {
   "cell_type": "markdown",
   "id": "e4a7a19a-15c0-4c70-b375-bd8e889390de",
   "metadata": {},
   "source": [
    "**Metadata: define functions and create dataframe for metadata**"
   ]
  },
  {
   "cell_type": "code",
   "execution_count": 7,
   "id": "7b06b6e7-342b-4b4b-9a96-8a7c1278a897",
   "metadata": {},
   "outputs": [],
   "source": [
    "# get sentiment scores for each poem\n",
    "\n",
    "def get_sentiment(file_path):\n",
    "    \n",
    "    with open(file_path) as file:\n",
    "        text = file.read().replace(\"\\n\", \" \")\n",
    "    \n",
    "    lemmas = []\n",
    "    \n",
    "    doc1 = nlp(text)\n",
    "    \n",
    "    for token in doc1:\n",
    "        if len(token.text) > 2:\n",
    "            lemmas.append(token.lemma_)\n",
    "\n",
    "    total_score = 0\n",
    "\n",
    "    for lemma in lemmas:\n",
    "        for word in sentiment_df[\"word\"]:\n",
    "            if lemma == word:\n",
    "                score = sentiment_df.loc[sentiment_df[\"word\"] == word, \"score\"].item()\n",
    "                total_score += score\n",
    "\n",
    "    return float(\"{:.3f}\".format(total_score))"
   ]
  },
  {
   "cell_type": "code",
   "execution_count": 8,
   "id": "7beffb04-dfa5-4370-8790-052892807afb",
   "metadata": {},
   "outputs": [],
   "source": [
    "# get number of tokens and types\n",
    "\n",
    "def get_tokens_types(file_path):\n",
    "    \n",
    "    with open(file_path) as file:\n",
    "        text = file.read().replace(\"\\n\", \" \")\n",
    "    \n",
    "    tokens = []\n",
    "    \n",
    "    doc2 = nlp(text)\n",
    "    \n",
    "    for token in doc2:\n",
    "        tokens.append(token.text)\n",
    "        \n",
    "    types = set(tokens)\n",
    "        \n",
    "    return len(tokens), len(types)"
   ]
  },
  {
   "cell_type": "markdown",
   "id": "4aa22ede-d32f-4596-86eb-3822541e5081",
   "metadata": {},
   "source": [
    "**Combine all to one**"
   ]
  },
  {
   "cell_type": "code",
   "execution_count": 61,
   "id": "ec27c7b6-531f-46fc-bf5d-0602ffe0fca5",
   "metadata": {},
   "outputs": [],
   "source": [
    "authors = [\"goethe\", \"günderrode\", \"hölderlin\", \"eichendorff\", \"arnim\"]\n",
    "author_names = [\"Johann Wolfgang von Goethe\", \"Karoline von Günderrode\", \"Joseph von Eichendorff\",\n",
    "                \"Achim von Arnim\", \"Friedrich Hölderlin\"]"
   ]
  },
  {
   "cell_type": "code",
   "execution_count": 22,
   "id": "538c34a0-1266-4611-bfcc-c8135ac59f67",
   "metadata": {},
   "outputs": [],
   "source": [
    "def get_file_path(authors):\n",
    "    \n",
    "    all_files = []\n",
    "\n",
    "    for author in authors:\n",
    "        files = glob.glob(\"corpus/\" + author + \"/txt/*.txt\")\n",
    "        for file in files:\n",
    "            all_files.append(file)\n",
    "    \n",
    "    return all_files"
   ]
  },
  {
   "cell_type": "code",
   "execution_count": 63,
   "id": "e1e622c9-c072-4178-a69e-8ba52ebe073e",
   "metadata": {},
   "outputs": [],
   "source": [
    "all_files = get_file_path(authors)"
   ]
  },
  {
   "cell_type": "code",
   "execution_count": 67,
   "id": "b5253ea4-b8d5-49e9-a0dc-28ff1d477327",
   "metadata": {},
   "outputs": [],
   "source": [
    "def get_poet_names(files):\n",
    "    \n",
    "    poet_names = []\n",
    "    \n",
    "    for file in files:\n",
    "        poet_last_name = file.partition(\"/\")[2].partition(\"/\")[0]\n",
    "        for name in author_names:\n",
    "            if poet_last_name == name.rpartition(\" \")[-1].lower():\n",
    "                poet_names.append(name)\n",
    "                        \n",
    "    return poet_names"
   ]
  },
  {
   "cell_type": "code",
   "execution_count": 25,
   "id": "79b77980-dfb4-423f-9ff0-2d909ab7f981",
   "metadata": {},
   "outputs": [],
   "source": [
    "# get_poet_names(all_files)"
   ]
  },
  {
   "cell_type": "code",
   "execution_count": 65,
   "id": "7155d1fd-d37d-42b1-bb14-948d5f4f254c",
   "metadata": {},
   "outputs": [],
   "source": [
    "def get_poem_names(files):\n",
    "    \n",
    "    poem_names = []\n",
    "    \n",
    "    for file in files:\n",
    "        poem_name = file.partition(\"/\")[2].partition(\"/\")[2].partition(\"_\")[2].replace(\"_\", \" \").replace(\".txt\", \"\")\n",
    "        poem_names.append(poem_name)\n",
    "        \n",
    "    return poem_names"
   ]
  },
  {
   "cell_type": "code",
   "execution_count": 27,
   "id": "e00c3a4d-8e7a-4bc2-8a80-19ad440f3afe",
   "metadata": {},
   "outputs": [],
   "source": [
    "# get_poem_names(all_files)"
   ]
  },
  {
   "cell_type": "code",
   "execution_count": 68,
   "id": "b886737f-bdea-44e5-b1f7-956d45a1c847",
   "metadata": {},
   "outputs": [],
   "source": [
    "poems_df = pd.DataFrame({\"author\": get_poet_names(all_files), \"poem_name\": get_poem_names(all_files), \"file_path\": all_files})"
   ]
  },
  {
   "cell_type": "code",
   "execution_count": 69,
   "id": "602ce3ad-92ad-4321-89c1-4af4396c05e9",
   "metadata": {},
   "outputs": [
    {
     "data": {
      "text/html": [
       "<div>\n",
       "<style scoped>\n",
       "    .dataframe tbody tr th:only-of-type {\n",
       "        vertical-align: middle;\n",
       "    }\n",
       "\n",
       "    .dataframe tbody tr th {\n",
       "        vertical-align: top;\n",
       "    }\n",
       "\n",
       "    .dataframe thead th {\n",
       "        text-align: right;\n",
       "    }\n",
       "</style>\n",
       "<table border=\"1\" class=\"dataframe\">\n",
       "  <thead>\n",
       "    <tr style=\"text-align: right;\">\n",
       "      <th></th>\n",
       "      <th>author</th>\n",
       "      <th>poem_name</th>\n",
       "      <th>file_path</th>\n",
       "    </tr>\n",
       "  </thead>\n",
       "  <tbody>\n",
       "    <tr>\n",
       "      <th>0</th>\n",
       "      <td>Johann Wolfgang von Goethe</td>\n",
       "      <td>Diner zu Koblenz im Sommer 1774</td>\n",
       "      <td>corpus/goethe/txt/goethe_Diner_zu_Koblenz_im_S...</td>\n",
       "    </tr>\n",
       "    <tr>\n",
       "      <th>1</th>\n",
       "      <td>Johann Wolfgang von Goethe</td>\n",
       "      <td>Suleika  3</td>\n",
       "      <td>corpus/goethe/txt/goethe_Suleika__3_.txt</td>\n",
       "    </tr>\n",
       "    <tr>\n",
       "      <th>2</th>\n",
       "      <td>Johann Wolfgang von Goethe</td>\n",
       "      <td>O Vater alles wahren Sinns</td>\n",
       "      <td>corpus/goethe/txt/goethe_O_Vater_alles_wahren_...</td>\n",
       "    </tr>\n",
       "    <tr>\n",
       "      <th>3</th>\n",
       "      <td>Johann Wolfgang von Goethe</td>\n",
       "      <td>Berechtigte Maenner</td>\n",
       "      <td>corpus/goethe/txt/goethe_Berechtigte_Maenner.txt</td>\n",
       "    </tr>\n",
       "    <tr>\n",
       "      <th>4</th>\n",
       "      <td>Johann Wolfgang von Goethe</td>\n",
       "      <td>Das Tagebuch</td>\n",
       "      <td>corpus/goethe/txt/goethe_Das_Tagebuch.txt</td>\n",
       "    </tr>\n",
       "    <tr>\n",
       "      <th>...</th>\n",
       "      <td>...</td>\n",
       "      <td>...</td>\n",
       "      <td>...</td>\n",
       "    </tr>\n",
       "    <tr>\n",
       "      <th>2636</th>\n",
       "      <td>Achim von Arnim</td>\n",
       "      <td>Geh, du schwarze Amsel</td>\n",
       "      <td>corpus/arnim/txt/arnim_Geh,_du_schwarze_Amsel.txt</td>\n",
       "    </tr>\n",
       "    <tr>\n",
       "      <th>2637</th>\n",
       "      <td>Achim von Arnim</td>\n",
       "      <td>Der Stralauer Fischzug, im Jahre 1806</td>\n",
       "      <td>corpus/arnim/txt/arnim_Der_Stralauer_Fischzug,...</td>\n",
       "    </tr>\n",
       "    <tr>\n",
       "      <th>2638</th>\n",
       "      <td>Achim von Arnim</td>\n",
       "      <td>Amor</td>\n",
       "      <td>corpus/arnim/txt/arnim_Amor.txt</td>\n",
       "    </tr>\n",
       "    <tr>\n",
       "      <th>2639</th>\n",
       "      <td>Achim von Arnim</td>\n",
       "      <td>Nicht weit her</td>\n",
       "      <td>corpus/arnim/txt/arnim_Nicht_weit_her.txt</td>\n",
       "    </tr>\n",
       "    <tr>\n",
       "      <th>2640</th>\n",
       "      <td>Achim von Arnim</td>\n",
       "      <td>Die Nonne</td>\n",
       "      <td>corpus/arnim/txt/arnim_Die_Nonne.txt</td>\n",
       "    </tr>\n",
       "  </tbody>\n",
       "</table>\n",
       "<p>2641 rows × 3 columns</p>\n",
       "</div>"
      ],
      "text/plain": [
       "                          author                              poem_name  \\\n",
       "0     Johann Wolfgang von Goethe        Diner zu Koblenz im Sommer 1774   \n",
       "1     Johann Wolfgang von Goethe                            Suleika  3    \n",
       "2     Johann Wolfgang von Goethe            O Vater alles wahren Sinns    \n",
       "3     Johann Wolfgang von Goethe                    Berechtigte Maenner   \n",
       "4     Johann Wolfgang von Goethe                           Das Tagebuch   \n",
       "...                          ...                                    ...   \n",
       "2636             Achim von Arnim                 Geh, du schwarze Amsel   \n",
       "2637             Achim von Arnim  Der Stralauer Fischzug, im Jahre 1806   \n",
       "2638             Achim von Arnim                                   Amor   \n",
       "2639             Achim von Arnim                         Nicht weit her   \n",
       "2640             Achim von Arnim                              Die Nonne   \n",
       "\n",
       "                                              file_path  \n",
       "0     corpus/goethe/txt/goethe_Diner_zu_Koblenz_im_S...  \n",
       "1              corpus/goethe/txt/goethe_Suleika__3_.txt  \n",
       "2     corpus/goethe/txt/goethe_O_Vater_alles_wahren_...  \n",
       "3      corpus/goethe/txt/goethe_Berechtigte_Maenner.txt  \n",
       "4             corpus/goethe/txt/goethe_Das_Tagebuch.txt  \n",
       "...                                                 ...  \n",
       "2636  corpus/arnim/txt/arnim_Geh,_du_schwarze_Amsel.txt  \n",
       "2637  corpus/arnim/txt/arnim_Der_Stralauer_Fischzug,...  \n",
       "2638                    corpus/arnim/txt/arnim_Amor.txt  \n",
       "2639          corpus/arnim/txt/arnim_Nicht_weit_her.txt  \n",
       "2640               corpus/arnim/txt/arnim_Die_Nonne.txt  \n",
       "\n",
       "[2641 rows x 3 columns]"
      ]
     },
     "execution_count": 69,
     "metadata": {},
     "output_type": "execute_result"
    }
   ],
   "source": [
    "poems_df"
   ]
  },
  {
   "cell_type": "code",
   "execution_count": 71,
   "id": "7dd9cf21-80c3-4d05-b150-4dc0cb2e70e3",
   "metadata": {},
   "outputs": [],
   "source": [
    "scores = []\n",
    "\n",
    "for path in poems_df[\"file_path\"]:\n",
    "    try:\n",
    "        sent_score = get_sentiment(path)\n",
    "        scores.append(sent_score)\n",
    "    except:\n",
    "        scores.append(0.0)\n",
    "        \n",
    "poems_df[\"sent_score\"] = scores\n",
    "\n",
    "polarity = []\n",
    "\n",
    "for sentiment in poems_df[\"sent_score\"]:\n",
    "    if float(sentiment) >= 0:\n",
    "        polarity.append(\"positive\")\n",
    "    elif float(sentiment) < 0:\n",
    "        polarity.append(\"negative\")\n",
    "\n",
    "poems_df[\"sentiment\"] = polarity"
   ]
  },
  {
   "cell_type": "code",
   "execution_count": 72,
   "id": "3f01d075-4ef0-49c9-a730-6d291577981b",
   "metadata": {},
   "outputs": [],
   "source": [
    "tokens = []\n",
    "types = []\n",
    "\n",
    "for f in poems_df[\"file_path\"]:\n",
    "    token, typ = get_tokens_types(f)\n",
    "    tokens.append(token)\n",
    "    types.append(typ)\n",
    "\n",
    "poems_df[\"tokens\"] = tokens\n",
    "poems_df[\"types\"] = types"
   ]
  },
  {
   "cell_type": "code",
   "execution_count": 73,
   "id": "2d42bf5c-71d1-4fe1-84b9-d6000370d138",
   "metadata": {},
   "outputs": [],
   "source": [
    "poems_df[\"ttr\"] = (poems_df[\"types\"] / poems_df[\"tokens\"]).round(2)"
   ]
  },
  {
   "cell_type": "code",
   "execution_count": 98,
   "id": "c19db249-1557-4ac6-87e3-e041a9084438",
   "metadata": {},
   "outputs": [],
   "source": [
    "poems_df[\"sent_score\"] = poems_df[\"sent_score\"].round(2)"
   ]
  },
  {
   "cell_type": "code",
   "execution_count": 99,
   "id": "71613524-83d8-4ffa-9117-d443fb80510d",
   "metadata": {},
   "outputs": [
    {
     "data": {
      "text/html": [
       "<div>\n",
       "<style scoped>\n",
       "    .dataframe tbody tr th:only-of-type {\n",
       "        vertical-align: middle;\n",
       "    }\n",
       "\n",
       "    .dataframe tbody tr th {\n",
       "        vertical-align: top;\n",
       "    }\n",
       "\n",
       "    .dataframe thead th {\n",
       "        text-align: right;\n",
       "    }\n",
       "</style>\n",
       "<table border=\"1\" class=\"dataframe\">\n",
       "  <thead>\n",
       "    <tr style=\"text-align: right;\">\n",
       "      <th></th>\n",
       "      <th>author</th>\n",
       "      <th>poem_name</th>\n",
       "      <th>file_path</th>\n",
       "      <th>sent_score</th>\n",
       "      <th>sentiment</th>\n",
       "      <th>tokens</th>\n",
       "      <th>types</th>\n",
       "      <th>ttr</th>\n",
       "    </tr>\n",
       "  </thead>\n",
       "  <tbody>\n",
       "    <tr>\n",
       "      <th>0</th>\n",
       "      <td>Johann Wolfgang von Goethe</td>\n",
       "      <td>Diner zu Koblenz im Sommer 1774</td>\n",
       "      <td>corpus/goethe/txt/goethe_Diner_zu_Koblenz_im_S...</td>\n",
       "      <td>0.77</td>\n",
       "      <td>positive</td>\n",
       "      <td>212</td>\n",
       "      <td>143</td>\n",
       "      <td>0.67</td>\n",
       "    </tr>\n",
       "    <tr>\n",
       "      <th>1</th>\n",
       "      <td>Johann Wolfgang von Goethe</td>\n",
       "      <td>Suleika  3</td>\n",
       "      <td>corpus/goethe/txt/goethe_Suleika__3_.txt</td>\n",
       "      <td>0.06</td>\n",
       "      <td>positive</td>\n",
       "      <td>129</td>\n",
       "      <td>98</td>\n",
       "      <td>0.76</td>\n",
       "    </tr>\n",
       "    <tr>\n",
       "      <th>2</th>\n",
       "      <td>Johann Wolfgang von Goethe</td>\n",
       "      <td>O Vater alles wahren Sinns</td>\n",
       "      <td>corpus/goethe/txt/goethe_O_Vater_alles_wahren_...</td>\n",
       "      <td>0.63</td>\n",
       "      <td>positive</td>\n",
       "      <td>46</td>\n",
       "      <td>35</td>\n",
       "      <td>0.76</td>\n",
       "    </tr>\n",
       "    <tr>\n",
       "      <th>3</th>\n",
       "      <td>Johann Wolfgang von Goethe</td>\n",
       "      <td>Berechtigte Maenner</td>\n",
       "      <td>corpus/goethe/txt/goethe_Berechtigte_Maenner.txt</td>\n",
       "      <td>0.69</td>\n",
       "      <td>positive</td>\n",
       "      <td>371</td>\n",
       "      <td>238</td>\n",
       "      <td>0.64</td>\n",
       "    </tr>\n",
       "    <tr>\n",
       "      <th>4</th>\n",
       "      <td>Johann Wolfgang von Goethe</td>\n",
       "      <td>Das Tagebuch</td>\n",
       "      <td>corpus/goethe/txt/goethe_Das_Tagebuch.txt</td>\n",
       "      <td>5.90</td>\n",
       "      <td>positive</td>\n",
       "      <td>1663</td>\n",
       "      <td>776</td>\n",
       "      <td>0.47</td>\n",
       "    </tr>\n",
       "    <tr>\n",
       "      <th>...</th>\n",
       "      <td>...</td>\n",
       "      <td>...</td>\n",
       "      <td>...</td>\n",
       "      <td>...</td>\n",
       "      <td>...</td>\n",
       "      <td>...</td>\n",
       "      <td>...</td>\n",
       "      <td>...</td>\n",
       "    </tr>\n",
       "    <tr>\n",
       "      <th>2636</th>\n",
       "      <td>Achim von Arnim</td>\n",
       "      <td>Geh, du schwarze Amsel</td>\n",
       "      <td>corpus/arnim/txt/arnim_Geh,_du_schwarze_Amsel.txt</td>\n",
       "      <td>-2.21</td>\n",
       "      <td>negative</td>\n",
       "      <td>41</td>\n",
       "      <td>28</td>\n",
       "      <td>0.68</td>\n",
       "    </tr>\n",
       "    <tr>\n",
       "      <th>2637</th>\n",
       "      <td>Achim von Arnim</td>\n",
       "      <td>Der Stralauer Fischzug, im Jahre 1806</td>\n",
       "      <td>corpus/arnim/txt/arnim_Der_Stralauer_Fischzug,...</td>\n",
       "      <td>-8.72</td>\n",
       "      <td>negative</td>\n",
       "      <td>1092</td>\n",
       "      <td>552</td>\n",
       "      <td>0.51</td>\n",
       "    </tr>\n",
       "    <tr>\n",
       "      <th>2638</th>\n",
       "      <td>Achim von Arnim</td>\n",
       "      <td>Amor</td>\n",
       "      <td>corpus/arnim/txt/arnim_Amor.txt</td>\n",
       "      <td>-0.27</td>\n",
       "      <td>negative</td>\n",
       "      <td>91</td>\n",
       "      <td>59</td>\n",
       "      <td>0.65</td>\n",
       "    </tr>\n",
       "    <tr>\n",
       "      <th>2639</th>\n",
       "      <td>Achim von Arnim</td>\n",
       "      <td>Nicht weit her</td>\n",
       "      <td>corpus/arnim/txt/arnim_Nicht_weit_her.txt</td>\n",
       "      <td>0.00</td>\n",
       "      <td>positive</td>\n",
       "      <td>44</td>\n",
       "      <td>24</td>\n",
       "      <td>0.55</td>\n",
       "    </tr>\n",
       "    <tr>\n",
       "      <th>2640</th>\n",
       "      <td>Achim von Arnim</td>\n",
       "      <td>Die Nonne</td>\n",
       "      <td>corpus/arnim/txt/arnim_Die_Nonne.txt</td>\n",
       "      <td>1.88</td>\n",
       "      <td>positive</td>\n",
       "      <td>364</td>\n",
       "      <td>227</td>\n",
       "      <td>0.62</td>\n",
       "    </tr>\n",
       "  </tbody>\n",
       "</table>\n",
       "<p>2641 rows × 8 columns</p>\n",
       "</div>"
      ],
      "text/plain": [
       "                          author                              poem_name  \\\n",
       "0     Johann Wolfgang von Goethe        Diner zu Koblenz im Sommer 1774   \n",
       "1     Johann Wolfgang von Goethe                            Suleika  3    \n",
       "2     Johann Wolfgang von Goethe            O Vater alles wahren Sinns    \n",
       "3     Johann Wolfgang von Goethe                    Berechtigte Maenner   \n",
       "4     Johann Wolfgang von Goethe                           Das Tagebuch   \n",
       "...                          ...                                    ...   \n",
       "2636             Achim von Arnim                 Geh, du schwarze Amsel   \n",
       "2637             Achim von Arnim  Der Stralauer Fischzug, im Jahre 1806   \n",
       "2638             Achim von Arnim                                   Amor   \n",
       "2639             Achim von Arnim                         Nicht weit her   \n",
       "2640             Achim von Arnim                              Die Nonne   \n",
       "\n",
       "                                              file_path  sent_score sentiment  \\\n",
       "0     corpus/goethe/txt/goethe_Diner_zu_Koblenz_im_S...        0.77  positive   \n",
       "1              corpus/goethe/txt/goethe_Suleika__3_.txt        0.06  positive   \n",
       "2     corpus/goethe/txt/goethe_O_Vater_alles_wahren_...        0.63  positive   \n",
       "3      corpus/goethe/txt/goethe_Berechtigte_Maenner.txt        0.69  positive   \n",
       "4             corpus/goethe/txt/goethe_Das_Tagebuch.txt        5.90  positive   \n",
       "...                                                 ...         ...       ...   \n",
       "2636  corpus/arnim/txt/arnim_Geh,_du_schwarze_Amsel.txt       -2.21  negative   \n",
       "2637  corpus/arnim/txt/arnim_Der_Stralauer_Fischzug,...       -8.72  negative   \n",
       "2638                    corpus/arnim/txt/arnim_Amor.txt       -0.27  negative   \n",
       "2639          corpus/arnim/txt/arnim_Nicht_weit_her.txt        0.00  positive   \n",
       "2640               corpus/arnim/txt/arnim_Die_Nonne.txt        1.88  positive   \n",
       "\n",
       "      tokens  types   ttr  \n",
       "0        212    143  0.67  \n",
       "1        129     98  0.76  \n",
       "2         46     35  0.76  \n",
       "3        371    238  0.64  \n",
       "4       1663    776  0.47  \n",
       "...      ...    ...   ...  \n",
       "2636      41     28  0.68  \n",
       "2637    1092    552  0.51  \n",
       "2638      91     59  0.65  \n",
       "2639      44     24  0.55  \n",
       "2640     364    227  0.62  \n",
       "\n",
       "[2641 rows x 8 columns]"
      ]
     },
     "execution_count": 99,
     "metadata": {},
     "output_type": "execute_result"
    }
   ],
   "source": [
    "poems_df"
   ]
  },
  {
   "cell_type": "code",
   "execution_count": 108,
   "id": "43aa0bff-17a2-45e2-826f-145657270e58",
   "metadata": {},
   "outputs": [
    {
     "data": {
      "text/plain": [
       "879427"
      ]
     },
     "execution_count": 108,
     "metadata": {},
     "output_type": "execute_result"
    }
   ],
   "source": [
    "poems_df[\"tokens\"].sum()"
   ]
  },
  {
   "cell_type": "code",
   "execution_count": 151,
   "id": "cabb7209-cf51-44fe-ba13-9d13372cf4ea",
   "metadata": {},
   "outputs": [],
   "source": [
    "sent_tokens_df = poems_df.groupby([\"author\"]).sum()"
   ]
  },
  {
   "cell_type": "code",
   "execution_count": 133,
   "id": "c6f4f727-db17-4716-9541-90543efbc4f0",
   "metadata": {},
   "outputs": [],
   "source": [
    "poem_count_df = poems_df.groupby([\"author\"]).count().poem_name"
   ]
  },
  {
   "cell_type": "code",
   "execution_count": 134,
   "id": "0e27c8d0-336a-4af7-94dc-0fd828610523",
   "metadata": {},
   "outputs": [],
   "source": [
    "avg_ttr = (poems_df.groupby([\"author\"]).sum().ttr / poems_df.groupby([\"author\"]).count().poem_name).round(2)"
   ]
  },
  {
   "cell_type": "code",
   "execution_count": 198,
   "id": "0dafcbed-047f-4414-81ea-80d61f86c30d",
   "metadata": {},
   "outputs": [],
   "source": [
    "corpus_meta_df = pd.concat([poem_count_df, sent_tokens_df, avg_ttr], axis = 1)\n",
    "corpus_meta_df = corpus_meta_df.drop(columns = ['ttr'])\n",
    "corpus_meta_df = corpus_meta_df.rename(columns = {\"poem_name\": \"poem_count\", 0: \"avg_ttr\"})"
   ]
  },
  {
   "cell_type": "code",
   "execution_count": 199,
   "id": "acabb4b9-59a4-4a03-b96b-86a963778ffd",
   "metadata": {},
   "outputs": [],
   "source": [
    "corpus_meta_df.reset_index(inplace = True)"
   ]
  },
  {
   "cell_type": "code",
   "execution_count": 204,
   "id": "e8358299-222d-4b43-ba66-4f9354801ffb",
   "metadata": {},
   "outputs": [],
   "source": [
    "total_row = pd.DataFrame({\"author\": \"total / avg\", \"poem_count\": int(corpus_meta_df.sum().poem_count),\n",
    "                         \"sent_score\": corpus_meta_df.sum().sent_score, \"tokens\": corpus_meta_df.sum().tokens,\n",
    "                         \"types\": corpus_meta_df.sum().types, \"avg_ttr\": (corpus_meta_df.sum().avg_ttr / 5).round(2)}, index=[0])"
   ]
  },
  {
   "cell_type": "code",
   "execution_count": 207,
   "id": "7f79eb2c-2e00-4d84-92b2-0703794a60b0",
   "metadata": {},
   "outputs": [],
   "source": [
    "corpus_meta_df = pd.merge(corpus_meta_df, total_row, how = \"outer\")"
   ]
  },
  {
   "cell_type": "code",
   "execution_count": 208,
   "id": "221e6a4a-4b56-4599-b66f-614d9cfc791d",
   "metadata": {},
   "outputs": [
    {
     "data": {
      "text/html": [
       "<div>\n",
       "<style scoped>\n",
       "    .dataframe tbody tr th:only-of-type {\n",
       "        vertical-align: middle;\n",
       "    }\n",
       "\n",
       "    .dataframe tbody tr th {\n",
       "        vertical-align: top;\n",
       "    }\n",
       "\n",
       "    .dataframe thead th {\n",
       "        text-align: right;\n",
       "    }\n",
       "</style>\n",
       "<table border=\"1\" class=\"dataframe\">\n",
       "  <thead>\n",
       "    <tr style=\"text-align: right;\">\n",
       "      <th></th>\n",
       "      <th>author</th>\n",
       "      <th>poem_count</th>\n",
       "      <th>sent_score</th>\n",
       "      <th>tokens</th>\n",
       "      <th>types</th>\n",
       "      <th>avg_ttr</th>\n",
       "    </tr>\n",
       "  </thead>\n",
       "  <tbody>\n",
       "    <tr>\n",
       "      <th>0</th>\n",
       "      <td>Achim von Arnim</td>\n",
       "      <td>912</td>\n",
       "      <td>70.31</td>\n",
       "      <td>278142</td>\n",
       "      <td>148338</td>\n",
       "      <td>0.62</td>\n",
       "    </tr>\n",
       "    <tr>\n",
       "      <th>1</th>\n",
       "      <td>Friedrich Hölderlin</td>\n",
       "      <td>363</td>\n",
       "      <td>131.54</td>\n",
       "      <td>189712</td>\n",
       "      <td>85919</td>\n",
       "      <td>0.63</td>\n",
       "    </tr>\n",
       "    <tr>\n",
       "      <th>2</th>\n",
       "      <td>Johann Wolfgang von Goethe</td>\n",
       "      <td>866</td>\n",
       "      <td>179.18</td>\n",
       "      <td>208375</td>\n",
       "      <td>104969</td>\n",
       "      <td>0.72</td>\n",
       "    </tr>\n",
       "    <tr>\n",
       "      <th>3</th>\n",
       "      <td>Joseph von Eichendorff</td>\n",
       "      <td>332</td>\n",
       "      <td>17.41</td>\n",
       "      <td>48211</td>\n",
       "      <td>33301</td>\n",
       "      <td>0.74</td>\n",
       "    </tr>\n",
       "    <tr>\n",
       "      <th>4</th>\n",
       "      <td>Karoline von Günderrode</td>\n",
       "      <td>168</td>\n",
       "      <td>-171.38</td>\n",
       "      <td>154987</td>\n",
       "      <td>59597</td>\n",
       "      <td>0.60</td>\n",
       "    </tr>\n",
       "    <tr>\n",
       "      <th>5</th>\n",
       "      <td>total / avg</td>\n",
       "      <td>2641</td>\n",
       "      <td>227.06</td>\n",
       "      <td>879427</td>\n",
       "      <td>432124</td>\n",
       "      <td>0.66</td>\n",
       "    </tr>\n",
       "  </tbody>\n",
       "</table>\n",
       "</div>"
      ],
      "text/plain": [
       "                       author  poem_count  sent_score  tokens   types  avg_ttr\n",
       "0             Achim von Arnim         912       70.31  278142  148338     0.62\n",
       "1         Friedrich Hölderlin         363      131.54  189712   85919     0.63\n",
       "2  Johann Wolfgang von Goethe         866      179.18  208375  104969     0.72\n",
       "3      Joseph von Eichendorff         332       17.41   48211   33301     0.74\n",
       "4     Karoline von Günderrode         168     -171.38  154987   59597     0.60\n",
       "5                 total / avg        2641      227.06  879427  432124     0.66"
      ]
     },
     "execution_count": 208,
     "metadata": {},
     "output_type": "execute_result"
    }
   ],
   "source": [
    "corpus_meta_df"
   ]
  },
  {
   "cell_type": "code",
   "execution_count": 92,
   "id": "bd1a6795-d41e-4903-a2f5-040b48e45f16",
   "metadata": {},
   "outputs": [
    {
     "data": {
      "image/png": "[encoded data removed]",
      "text/plain": [
       "<Figure size 1080x576 with 1 Axes>"
      ]
     },
     "metadata": {
      "image/png": {
       "height": 494,
       "width": 893
      },
      "needs_background": "light"
     },
     "output_type": "display_data"
    }
   ],
   "source": [
    "%config InlineBackend.figure_format = 'retina'\n",
    "plot = poems_df[\"sent_score\"].plot(figsize = (15, 8), ylabel = \"Sentiment Score\", xlabel = \"Poem ID\", title = \"Overview of Poem Sentiment Scores\", fontsize=25)\n",
    "plot.get_figure().savefig(\"plot.png\")"
   ]
  },
  {
   "cell_type": "markdown",
   "id": "a32bb7e7-d2e7-4641-9c92-9355c3ac23ef",
   "metadata": {},
   "source": [
    "**Write corpus**"
   ]
  },
  {
   "cell_type": "code",
   "execution_count": 93,
   "id": "011e4175-b452-4f45-827c-1daf189228b0",
   "metadata": {},
   "outputs": [],
   "source": [
    "all_poems = []\n",
    "\n",
    "for filepath in poems_df[\"file_path\"]:\n",
    "    with open(filepath) as file:\n",
    "        text = file.read()\n",
    "        all_poems.append(text)"
   ]
  },
  {
   "cell_type": "code",
   "execution_count": 94,
   "id": "e147ce3b-38df-4790-bc04-5db13e199fc6",
   "metadata": {},
   "outputs": [
    {
     "data": {
      "text/plain": [
       "2641"
      ]
     },
     "execution_count": 94,
     "metadata": {},
     "output_type": "execute_result"
    }
   ],
   "source": [
    "len(all_poems)"
   ]
  },
  {
   "cell_type": "code",
   "execution_count": null,
   "id": "ec817ef7-757e-439e-b103-fbdce45c59e3",
   "metadata": {},
   "outputs": [],
   "source": [
    "with open(\"corpus/DATA/all_poems.txt\", \"w\") as file:\n",
    "    for poem in all_poems:\n",
    "        file.write(poem + \"\\n\")"
   ]
  },
  {
   "cell_type": "markdown",
   "id": "fa3bdea4-c098-4291-873a-9ea3bdf0b227",
   "metadata": {},
   "source": [
    "**Train/Test Split**"
   ]
  },
  {
   "cell_type": "code",
   "execution_count": 43,
   "id": "65cbd9d0-6ab3-4cab-b6e1-b4fcbacf0d1d",
   "metadata": {},
   "outputs": [],
   "source": [
    "from sklearn.model_selection import train_test_split"
   ]
  },
  {
   "cell_type": "code",
   "execution_count": 44,
   "id": "b56c35c4-80c0-407b-aec4-97a6961a7407",
   "metadata": {},
   "outputs": [],
   "source": [
    "with open(\"corpus/DATA/all_poems.txt\") as file:\n",
    "    all_poems = file.read().split(\"\\n\")"
   ]
  },
  {
   "cell_type": "code",
   "execution_count": 45,
   "id": "4c27a527-10b8-4561-9405-20c09a00601e",
   "metadata": {},
   "outputs": [],
   "source": [
    "train, test = train_test_split(all_poems, test_size = 0.15)"
   ]
  },
  {
   "cell_type": "code",
   "execution_count": 46,
   "id": "85118df1-e20e-4e01-a2f4-a259cb7bde6c",
   "metadata": {},
   "outputs": [
    {
     "name": "stdout",
     "output_type": "stream",
     "text": [
      "Train dataset length: 2245\n",
      "Test dataset length: 397\n"
     ]
    }
   ],
   "source": [
    "print(\"Train dataset length: \" + str(len(train)))\n",
    "print(\"Test dataset length: \" + str(len(test)))"
   ]
  },
  {
   "cell_type": "code",
   "execution_count": 47,
   "id": "3006f5e3-e01e-4b47-a97f-444a93211dd5",
   "metadata": {},
   "outputs": [],
   "source": [
    "with open(\"corpus/DATA/train_dataset.txt\", \"w\") as file4:\n",
    "    for poem in train:\n",
    "        file4.write(poem + '\\n')"
   ]
  },
  {
   "cell_type": "code",
   "execution_count": 48,
   "id": "5c55e46d-1c85-47a7-b57b-0c3ad8aedb62",
   "metadata": {},
   "outputs": [],
   "source": [
    "with open(\"corpus/DATA/test_dataset.txt\", \"w\") as file5:\n",
    "    for poem in test:\n",
    "        file5.write(poem + \"\\n\")"
   ]
  },
  {
   "cell_type": "markdown",
   "id": "bdb76110-e6f5-4cc0-9522-600503e605ba",
   "metadata": {},
   "source": [
    "**Save files**"
   ]
  },
  {
   "cell_type": "code",
   "execution_count": 100,
   "id": "277cd696-c1cf-485c-a883-014d2590e648",
   "metadata": {},
   "outputs": [],
   "source": [
    "poems_df.to_csv(\"corpus/META/poems_df.csv\")"
   ]
  },
  {
   "cell_type": "code",
   "execution_count": 97,
   "id": "a0abe972-5f1a-4fb9-ab4f-7ad49a018470",
   "metadata": {},
   "outputs": [],
   "source": [
    "sentiment_df.to_csv(\"corpus/META/SentiWS.csv\", index = None)"
   ]
  },
  {
   "cell_type": "code",
   "execution_count": 209,
   "id": "7a3db2b1-18d8-4ff8-8e7b-b546b5c16ee7",
   "metadata": {},
   "outputs": [],
   "source": [
    "corpus_meta_df.to_csv(\"corpus/META/corpus_df.csv\")"
   ]
  },
  {
   "cell_type": "code",
   "execution_count": null,
   "id": "65b1b001-296e-48c5-be5f-d38620e16e2d",
   "metadata": {},
   "outputs": [],
   "source": []
  }
 ],
 "metadata": {
  "kernelspec": {
   "display_name": "Python 3",
   "language": "python",
   "name": "python3"
  },
  "language_info": {
   "codemirror_mode": {
    "name": "ipython",
    "version": 3
   },
   "file_extension": ".py",
   "mimetype": "text/x-python",
   "name": "python",
   "nbconvert_exporter": "python",
   "pygments_lexer": "ipython3",
   "version": "3.8.5"
  }
 },
 "nbformat": 4,
 "nbformat_minor": 5
}
